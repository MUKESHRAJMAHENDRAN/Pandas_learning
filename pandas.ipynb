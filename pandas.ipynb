{
  "nbformat": 4,
  "nbformat_minor": 0,
  "metadata": {
    "colab": {
      "provenance": [],
      "authorship_tag": "ABX9TyPsvkv5JsTfMlE94MmEgYB2",
      "include_colab_link": true
    },
    "kernelspec": {
      "name": "python3",
      "display_name": "Python 3"
    },
    "language_info": {
      "name": "python"
    }
  },
  "cells": [
    {
      "cell_type": "markdown",
      "metadata": {
        "id": "view-in-github",
        "colab_type": "text"
      },
      "source": [
        "<a href=\"https://colab.research.google.com/github/MUKESHRAJMAHENDRAN/Pandas_learning/blob/main/pandas.ipynb\" target=\"_parent\"><img src=\"https://colab.research.google.com/assets/colab-badge.svg\" alt=\"Open In Colab\"/></a>"
      ]
    },
    {
      "cell_type": "markdown",
      "source": [
        "## Series"
      ],
      "metadata": {
        "id": "HQUDVy5C0mfB"
      }
    },
    {
      "cell_type": "code",
      "execution_count": null,
      "metadata": {
        "id": "Joy3O05psg2-"
      },
      "outputs": [],
      "source": [
        "import pandas as pd\n",
        "import numpy as np"
      ]
    },
    {
      "cell_type": "code",
      "source": [
        "series = {\n",
        "    'index' : [0, 1, 2, 3],\n",
        "    'value' : [11, 22, 33, 44],\n",
        "    'name' : 'test'\n",
        "}"
      ],
      "metadata": {
        "id": "4bhKouult8ve"
      },
      "execution_count": null,
      "outputs": []
    },
    {
      "cell_type": "code",
      "source": [
        "series"
      ],
      "metadata": {
        "colab": {
          "base_uri": "https://localhost:8080/"
        },
        "id": "vTRqmQRKuQFT",
        "outputId": "d55f84b1-1c75-4d61-f789-e14a090da517"
      },
      "execution_count": null,
      "outputs": [
        {
          "output_type": "execute_result",
          "data": {
            "text/plain": [
              "{'index': [0, 1, 2, 3], 'value': [11, 22, 33, 44], 'name': 'test'}"
            ]
          },
          "metadata": {},
          "execution_count": 15
        }
      ]
    },
    {
      "cell_type": "code",
      "source": [
        "def get_val(series, idx):\n",
        "  val_index = series['index'].index(idx)\n",
        "  return series['value'][val_index]\n",
        "\n",
        "get_val(series, 1)"
      ],
      "metadata": {
        "colab": {
          "base_uri": "https://localhost:8080/"
        },
        "id": "4dcadwI7uRLj",
        "outputId": "19563856-0b2b-4550-d010-3a0b8a87290c"
      },
      "execution_count": null,
      "outputs": [
        {
          "output_type": "execute_result",
          "data": {
            "text/plain": [
              "22"
            ]
          },
          "metadata": {},
          "execution_count": 18
        }
      ]
    },
    {
      "cell_type": "code",
      "source": [
        "series_1 = {\n",
        "    'index' : ['Paul' , 'John' , 'George', 'Ringo'],\n",
        "    'value' : [11, 22, 33, 44],\n",
        "    'name' : 'test'\n",
        "}"
      ],
      "metadata": {
        "id": "s9R3uMPNvs1x"
      },
      "execution_count": null,
      "outputs": []
    },
    {
      "cell_type": "code",
      "source": [
        "get_val(series_1, 'John')"
      ],
      "metadata": {
        "colab": {
          "base_uri": "https://localhost:8080/"
        },
        "id": "N8s__ynQwSJY",
        "outputId": "3905a1a3-2acd-4333-c3f3-c6d6d44cb024"
      },
      "execution_count": null,
      "outputs": [
        {
          "output_type": "execute_result",
          "data": {
            "text/plain": [
              "22"
            ]
          },
          "metadata": {},
          "execution_count": 21
        }
      ]
    },
    {
      "cell_type": "code",
      "source": [
        "songs = pd.Series([11, 23, 44, 54, 36], name = 'count')"
      ],
      "metadata": {
        "id": "v55e2QtZwVT2"
      },
      "execution_count": null,
      "outputs": []
    },
    {
      "cell_type": "code",
      "source": [
        "songs[2]"
      ],
      "metadata": {
        "colab": {
          "base_uri": "https://localhost:8080/"
        },
        "id": "nGsvVmMV0LJM",
        "outputId": "1e98a019-9746-48b6-877c-805b4d814686"
      },
      "execution_count": null,
      "outputs": [
        {
          "output_type": "execute_result",
          "data": {
            "text/plain": [
              "44"
            ]
          },
          "metadata": {},
          "execution_count": 27
        }
      ]
    },
    {
      "cell_type": "code",
      "source": [
        "songs.index"
      ],
      "metadata": {
        "colab": {
          "base_uri": "https://localhost:8080/"
        },
        "id": "Ifg6H3SY0MUa",
        "outputId": "13800320-921e-46bd-d14e-b58202f832f8"
      },
      "execution_count": null,
      "outputs": [
        {
          "output_type": "execute_result",
          "data": {
            "text/plain": [
              "RangeIndex(start=0, stop=5, step=1)"
            ]
          },
          "metadata": {},
          "execution_count": 28
        }
      ]
    },
    {
      "cell_type": "code",
      "source": [
        "songs_1 = pd.Series(\n",
        "    [11, 22, 33, 44],\n",
        "    index = ['Paul' , 'John' , 'George', 'Ringo'],\n",
        "    name = 'count_1'\n",
        ")"
      ],
      "metadata": {
        "id": "iIHzfIs50ig4"
      },
      "execution_count": null,
      "outputs": []
    },
    {
      "cell_type": "code",
      "source": [
        "songs_1"
      ],
      "metadata": {
        "colab": {
          "base_uri": "https://localhost:8080/"
        },
        "id": "IGP1qErE1Aoe",
        "outputId": "f6c48b67-3028-43d5-85f9-61ec423cba00"
      },
      "execution_count": null,
      "outputs": [
        {
          "output_type": "execute_result",
          "data": {
            "text/plain": [
              "Paul      11\n",
              "John      22\n",
              "George    33\n",
              "Ringo     44\n",
              "Name: count_1, dtype: int64"
            ]
          },
          "metadata": {},
          "execution_count": 35
        }
      ]
    },
    {
      "cell_type": "code",
      "source": [
        "songs_1.index"
      ],
      "metadata": {
        "colab": {
          "base_uri": "https://localhost:8080/"
        },
        "id": "lndNsHAQ1Z5T",
        "outputId": "2e44a2da-d1d7-4bf6-cdcb-12e672236120"
      },
      "execution_count": null,
      "outputs": [
        {
          "output_type": "execute_result",
          "data": {
            "text/plain": [
              "Index(['Paul', 'John', 'George', 'Ringo'], dtype='object')"
            ]
          },
          "metadata": {},
          "execution_count": 36
        }
      ]
    },
    {
      "cell_type": "code",
      "source": [
        "song_2 = pd.Series([26, np.nan, 46, np.nan],\n",
        "                  index = ['Paul' , 'John' , 'George', 'Ringo'],\n",
        "                  name = 'count_2')"
      ],
      "metadata": {
        "id": "NbfJX3Mt1deC"
      },
      "execution_count": null,
      "outputs": []
    },
    {
      "cell_type": "code",
      "source": [
        "song_2"
      ],
      "metadata": {
        "colab": {
          "base_uri": "https://localhost:8080/"
        },
        "id": "f11NlC8P2Ayg",
        "outputId": "5e3f0dfa-78d4-455c-eb3c-b96a2fdc6948"
      },
      "execution_count": null,
      "outputs": [
        {
          "output_type": "execute_result",
          "data": {
            "text/plain": [
              "Paul      26.0\n",
              "John       NaN\n",
              "George    46.0\n",
              "Ringo      NaN\n",
              "Name: count_2, dtype: float64"
            ]
          },
          "metadata": {},
          "execution_count": 39
        }
      ]
    },
    {
      "cell_type": "code",
      "source": [
        "song_2.count()"
      ],
      "metadata": {
        "colab": {
          "base_uri": "https://localhost:8080/"
        },
        "id": "VrLbvMnT2D5u",
        "outputId": "02fc6da5-eb0d-489a-9a58-37c37bf7e750"
      },
      "execution_count": null,
      "outputs": [
        {
          "output_type": "execute_result",
          "data": {
            "text/plain": [
              "2"
            ]
          },
          "metadata": {},
          "execution_count": 40
        }
      ]
    },
    {
      "cell_type": "code",
      "source": [
        "song_2.size"
      ],
      "metadata": {
        "colab": {
          "base_uri": "https://localhost:8080/"
        },
        "id": "o35cuG4H2GQm",
        "outputId": "74db6d1e-9bb0-4ba9-f8a9-602403023f78"
      },
      "execution_count": null,
      "outputs": [
        {
          "output_type": "execute_result",
          "data": {
            "text/plain": [
              "4"
            ]
          },
          "metadata": {},
          "execution_count": 41
        }
      ]
    },
    {
      "cell_type": "code",
      "source": [],
      "metadata": {
        "id": "gvNUC1mc2JLu"
      },
      "execution_count": null,
      "outputs": []
    }
  ]
}